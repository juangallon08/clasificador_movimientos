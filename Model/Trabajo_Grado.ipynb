{
  "cells": [
    {
      "cell_type": "markdown",
      "metadata": {
        "id": "view-in-github",
        "colab_type": "text"
      },
      "source": [
        "<a href=\"https://colab.research.google.com/github/juangallon08/clasificador_movimientos/blob/main/Model/Trabajo_Grado.ipynb\" target=\"_parent\"><img src=\"https://colab.research.google.com/assets/colab-badge.svg\" alt=\"Open In Colab\"/></a>"
      ]
    },
    {
      "cell_type": "code",
      "execution_count": null,
      "metadata": {
        "id": "SufDLiTlMVCJ"
      },
      "outputs": [],
      "source": [
        "from google.colab import drive\n"
      ]
    },
    {
      "cell_type": "code",
      "execution_count": null,
      "metadata": {
        "colab": {
          "base_uri": "https://localhost:8080/"
        },
        "id": "v0JXJuYFMpB6",
        "outputId": "8bdfbadc-cbbd-4219-9fd2-c655d5638e88"
      },
      "outputs": [
        {
          "output_type": "stream",
          "name": "stdout",
          "text": [
            "Drive already mounted at /content/drive; to attempt to forcibly remount, call drive.mount(\"/content/drive\", force_remount=True).\n"
          ]
        }
      ],
      "source": [
        "drive.mount('/content/drive')\n"
      ]
    },
    {
      "cell_type": "markdown",
      "metadata": {
        "id": "WTuBFJXLKcp0"
      },
      "source": [
        "# Nueva sección"
      ]
    },
    {
      "cell_type": "code",
      "execution_count": null,
      "metadata": {
        "colab": {
          "base_uri": "https://localhost:8080/"
        },
        "id": "x_xsdaH_07Bn",
        "outputId": "d9ef7083-746c-4928-eb10-bc0cba596b29"
      },
      "outputs": [
        {
          "output_type": "stream",
          "name": "stdout",
          "text": [
            "Requirement already satisfied: opencv-python in /usr/local/lib/python3.10/dist-packages (4.8.0.76)\n",
            "Requirement already satisfied: numpy>=1.21.2 in /usr/local/lib/python3.10/dist-packages (from opencv-python) (1.23.5)\n"
          ]
        }
      ],
      "source": [
        "!pip install opencv-python"
      ]
    },
    {
      "cell_type": "code",
      "execution_count": null,
      "metadata": {
        "id": "-HjDITJZ1OGl"
      },
      "outputs": [],
      "source": [
        "import os\n",
        "import json\n",
        "import cv2\n",
        "import numpy as np\n",
        "import tensorflow as tf\n",
        "from tensorflow import keras\n",
        "from tensorflow.keras import layers\n",
        "from google.colab import drive\n"
      ]
    },
    {
      "cell_type": "code",
      "execution_count": null,
      "metadata": {
        "id": "i_p3mJg5LFeI",
        "colab": {
          "base_uri": "https://localhost:8080/"
        },
        "outputId": "6fee3a72-acad-4cff-b458-51f9f6b0321d"
      },
      "outputs": [
        {
          "output_type": "stream",
          "name": "stdout",
          "text": [
            "Drive already mounted at /content/drive; to attempt to forcibly remount, call drive.mount(\"/content/drive\", force_remount=True).\n"
          ]
        }
      ],
      "source": [
        "\n",
        "# Definir parámetros\n",
        "drive.mount('/content/drive')\n",
        "num_classes = 2 # Número de clases de movimientos\n",
        "input_shape = (20, 112, 112, 1) # Forma de la entrada: (longitud del clip, altura, anchura, canales)\n",
        "batch_size = 128 #120 #24 #480 96  # Tamaño del lote\n",
        "epochs = 10 # Número de épocas"
      ]
    },
    {
      "cell_type": "code",
      "execution_count": null,
      "metadata": {
        "id": "wAu7rs7zLfIx"
      },
      "outputs": [],
      "source": [
        "# Leer los datos\n",
        "def load_data(video_folder, label_folder):\n",
        "    # Crear listas vacías para almacenar los vídeos y las etiquetas\n",
        "    videos = []\n",
        "    labels = []\n",
        "\n",
        "    # Diccionario de mapeo de etiquetas si es necesario\n",
        "    label_mapping = {\"sospechoso\": 0, \"no sospechoso\": 1}\n",
        "\n",
        "    # Recorrer los archivos en la carpeta de vídeos\n",
        "    for filename in os.listdir(video_folder):\n",
        "        # Obtener el nombre del vídeo sin la extensión\n",
        "        video_name = os.path.splitext(filename)[0]\n",
        "        # Leer el vídeo como una secuencia de imágenes usando OpenCV\n",
        "        video = cv2.VideoCapture(os.path.join(video_folder,filename))\n",
        "        # Crear una lista vacía para almacenar las imágenes del vídeo\n",
        "        frames = []\n",
        "        # Recorrer las imágenes del vídeo\n",
        "        while video.isOpened():\n",
        "            # Leer una imagen del vídeo\n",
        "            ret, frame = video.read()\n",
        "            # Si se pudo leer la imagen\n",
        "            if ret:\n",
        "                # Redimensionar la imagen a 112x112 píxeles\n",
        "                frame = cv2.resize(frame,(112,112))\n",
        "                # Conversion a escala de grises\n",
        "                frame = cv2.cvtColor(frame, cv2.COLOR_BGR2GRAY)\n",
        "                # Añadir la imagen a la lista de frames\n",
        "                frames.append(frame)\n",
        "            # Si no se pudo leer la imagen\n",
        "            else:\n",
        "                # Salir del bucle\n",
        "                break\n",
        "        # Liberar el vídeo\n",
        "        video.release()\n",
        "        # Convertir la lista de frames en un array numpy\n",
        "        frames = np.array(frames)\n",
        "        # Añadir el array a la lista de vídeos\n",
        "        videos.append(frames)\n",
        "        # Leer el archivo json correspondiente al vídeo usando la librería json\n",
        "        with open(os.path.join(label_folder, video_name + \".mp4.json\")) as f:\n",
        "            label_data = json.load(f)\n",
        "        # Extraer la etiqueta de la clase de los datos del JSON\n",
        "        # Suponiendo que solo haya una etiqueta en \"tags\", de lo contrario, deberás manejarlo de acuerdo a tu caso específico\n",
        "        label = label_data[\"tags\"][0][\"name\"]\n",
        "        # Mapear la etiqueta si es necesario\n",
        "        if label_mapping and label in label_mapping:\n",
        "            label = label_mapping[label]\n",
        "        else:\n",
        "            raise ValueError(f\"Etiqueta no mapeada: {label}\")\n",
        "        # Añadir la etiqueta a la lista de etiquetas\n",
        "        labels.append(label)\n",
        "    # Convertir las listas en arrays numpy\n",
        "    videos = np.array(videos,dtype=object)\n",
        "    labels = np.array(labels)\n",
        "    # Devolver los arrays de vídeos y etiquetas\n",
        "    return videos, labels\n"
      ]
    },
    {
      "cell_type": "code",
      "execution_count": null,
      "metadata": {
        "id": "Hu2RwhJWLoFV"
      },
      "outputs": [],
      "source": [
        "# Dividir los datos en conjuntos de entrenamiento (80%), validación (10%) y prueba (10%)\n",
        "videos_train, labels_train = load_data (\"/content/drive/My Drive/Colab Notebooks/VD/train/v5\",\"/content/drive/My Drive/Colab Notebooks/VD/train/label\")\n",
        "videos_val, labels_val = load_data (\"/content/drive/My Drive/Colab Notebooks/VD/val/v5\",\"/content/drive/My Drive/Colab Notebooks/VD/val/label5\")\n",
        "videos_test, labels_test = load_data(\"/content/drive/My Drive/Colab Notebooks/VD/test/v5\",\"/content/drive/My Drive/Colab Notebooks/VD/test/label\")\n",
        "videos_train2, labels_train2 = load_data (\"/content/drive/My Drive/Colab Notebooks/VD/train/v2\",\"/content/drive/My Drive/Colab Notebooks/VD/train/label2\")\n",
        "videos_test2, labels_test2 = load_data(\"/content/drive/My Drive/Colab Notebooks/VD/test/v2\",\"/content/drive/My Drive/Colab Notebooks/VD/test/label2\")\n"
      ]
    },
    {
      "cell_type": "code",
      "source": [
        "def video_ajuste(videos_ajus):\n",
        "    num_frames1 = 20\n",
        "    videos_test_adjusted  = []\n",
        "    for video in videos_ajus:\n",
        "        if video.shape[0] != num_frames1:\n",
        "           if video.shape[0] < num_frames1:\n",
        "              # Rellenar con frames en blanco si es necesario\n",
        "              frames_faltantes1 = num_frames1 - video.shape[0]\n",
        "              frames_en_blanco1 = np.zeros_like(video[0])  # Crear un frame en blanco con las mismas dimensiones que los otros\n",
        "              frames_en_blanco1 = np.expand_dims(frames_en_blanco1, axis=0)  # Agregar una dimensión al frame en blanco\n",
        "              video_adjusted = np.pad(video, ((0, frames_faltantes1), (0, 0), (0, 0)), mode='constant', constant_values=0)\n",
        "           else:\n",
        "                # Recortar si hay más frames que num_frames\n",
        "                video_adjusted = video[:num_frames]\n",
        "        else:\n",
        "            video_adjusted = video\n",
        "        videos_test_adjusted.append(video_adjusted)\n",
        "\n",
        "    videos_ajus  = np.array(videos_test_adjusted)\n",
        "    video_shape = video.shape  # Obtener la forma actual del video\n",
        "    #videos_ajus = tf.convert_to_tensor(videos_test, dtype=tf.float32)\n",
        "\n",
        "    return videos_ajus\n"
      ],
      "metadata": {
        "id": "NR6yh65b_Dms"
      },
      "execution_count": null,
      "outputs": []
    },
    {
      "cell_type": "code",
      "source": [
        "videos_train = video_ajuste(videos_train)\n",
        "videos_test = video_ajuste(videos_test)\n",
        "videos_train2 = video_ajuste(videos_train2)\n",
        "videos_test2 = video_ajuste(videos_test2)\n",
        "videos_train = tf.convert_to_tensor(videos_train, dtype=tf.float32)\n",
        "videos_test = tf.convert_to_tensor(videos_test, dtype=tf.float32)\n",
        "videos_val = tf.convert_to_tensor(videos_val, dtype=tf.float32)\n",
        "videos_train2 = tf.convert_to_tensor(videos_train2, dtype=tf.float32)\n",
        "videos_test2 = tf.convert_to_tensor(videos_test2, dtype=tf.float32)\n",
        "\n",
        "print(videos_train.shape)\n",
        "print(videos_val.shape)\n",
        "print(videos_test.shape)\n",
        "print(videos_train2.shape)\n",
        "print(videos_test2.shape)\n",
        "\n",
        "print(labels_test2.shape)"
      ],
      "metadata": {
        "colab": {
          "base_uri": "https://localhost:8080/"
        },
        "id": "H7mPozoJCiuo",
        "outputId": "cfc1f5f8-7c23-452c-e8fa-19ff95f8bb27"
      },
      "execution_count": null,
      "outputs": [
        {
          "output_type": "stream",
          "name": "stdout",
          "text": [
            "(128, 20, 112, 112)\n",
            "(32, 20, 112, 112)\n",
            "(60, 20, 112, 112)\n",
            "(300, 20, 112, 112)\n",
            "(100, 20, 112, 112)\n",
            "(100,)\n"
          ]
        }
      ]
    },
    {
      "cell_type": "code",
      "execution_count": null,
      "metadata": {
        "id": "GTv6UVOCxIgr"
      },
      "outputs": [],
      "source": [
        "# Normalizar los datos\n",
        "videos_train = videos_train / 255.0\n",
        "videos_val = videos_val / 255.0\n",
        "videos_test = videos_test / 255.0\n",
        "videos_train2 = videos_train2 / 255.0\n",
        "videos_test2 = videos_test2 / 255.0"
      ]
    },
    {
      "cell_type": "code",
      "execution_count": null,
      "metadata": {
        "colab": {
          "base_uri": "https://localhost:8080/"
        },
        "id": "O67j-_-I83n4",
        "outputId": "187a3882-aa2e-4352-e3c8-68693f1755bc"
      },
      "outputs": [
        {
          "output_type": "stream",
          "name": "stdout",
          "text": [
            "(128, 20, 112, 112)\n",
            "(32, 20, 112, 112)\n",
            "(60, 20, 112, 112)\n",
            "(300, 20, 112, 112)\n",
            "(100, 20, 112, 112)\n"
          ]
        }
      ],
      "source": [
        "print(videos_train.shape)\n",
        "print(videos_val.shape)\n",
        "print(videos_test.shape)\n",
        "print(videos_train2.shape)\n",
        "print(videos_test2.shape)\n"
      ]
    },
    {
      "cell_type": "code",
      "execution_count": null,
      "metadata": {
        "id": "CTo1lBIjxjsu"
      },
      "outputs": [],
      "source": [
        "# Definir la arquitectura de la red neuronal CNN 3D\n",
        "def build_model(input_shape, num_classes):\n",
        "    # Crear la entrada de la red\n",
        "    inputs = keras.Input(shape=input_shape)\n",
        "    # Aplicar una capa de convolución 3D con 32 filtros de 3x3x3 y activación ReLU\n",
        "    x = layers.Conv3D(filters=32, kernel_size=3, activation=\"relu\", padding=\"same\")(inputs)\n",
        "    # Aplicar una capa de convolución 3D con 64 filtros de 3x3x3 y activación ReLU\n",
        "    x = layers.Conv3D(filters=64, kernel_size=3, activation=\"relu\", padding=\"same\")(x)\n",
        "    # Aplicar una capa de agrupación máxima 3D con tamaño de ventana de 2x2x2\n",
        "    x = layers.MaxPool3D(pool_size=2)(x)\n",
        "    # Aplicar una capa de convolución 3D con 128 filtros de 2x2x2 y activación ReLU\n",
        "    x = layers.Conv3D(filters=128, kernel_size=3, activation=\"relu\", padding=\"same\")(x)\n",
        "    # Aplicar una capa de convolución 3D con 128 filtros de 2x2x2 y activación ReLU\n",
        "    x = layers.Conv3D(filters=128, kernel_size=3, activation=\"relu\", padding=\"same\")(x)\n",
        "    # Aplicar una capa de agrupación máxima 3D con tamaño de ventana de 2x2x2\n",
        "    #x = layers.Conv3D(filters=128, kernel_size=3, activation=\"relu\", padding=\"same\")(x)\n",
        "    x = layers.MaxPool3D(pool_size=2)(x)\n",
        "    # Aplicar una capa de convolución 3D con 256 filtros de 2x2x2 y activación ReLU\n",
        "    x = layers.Conv3D(filters=256, kernel_size=2, activation=\"relu\", padding=\"same\")(x)\n",
        "    # Aplicar una capa de convolución 3D con 256 filtros de 2x2x2 y activación ReLU\n",
        "    #x = layers.Conv3D(filters=256, kernel_size=2, activation=\"relu\", padding=\"same\")(x)\n",
        "    # Aplicar una capa de agrupación máxima 3D con tamaño de ventana de 2x2x2\n",
        "    x = layers.MaxPool3D(pool_size=2)(x)\n",
        "    # Aplicar una capa de aplanamiento para convertir el tensor en un vector\n",
        "    x = layers.Flatten()(x)\n",
        "    # Aplicar una capa densa con 512 unidades y activación ReLU\n",
        "    x = layers.Dense(units=512, activation=\"relu\")(x)\n",
        "    # Aplicar una capa densa con el número de clases y activación softmax\n",
        "    outputs = layers.Dense(units=num_classes, activation=\"softmax\")(x)\n",
        "    # Crear el modelo usando la API funcional de Keras\n",
        "    model = keras.Model(inputs, outputs, name=\"cnn_3d\")\n",
        "    # Devolver el modelo\n",
        "    return model\n"
      ]
    },
    {
      "cell_type": "code",
      "source": [
        "# esayo de otra red neuronal\n",
        "def build_model(input_shape, num_classes):\n",
        "\n",
        "    inputs = keras.Input(shape=input_shape)\n",
        "\n",
        "    x = layers.Conv3D(filters=64, kernel_size=3, activation=\"relu\",padding=\"same\")(inputs)\n",
        "    #x = layers.Conv3D(filters=32, kernel_size=3, activation=\"relu\", padding=\"same\")(x)\n",
        "    x = layers.MaxPool3D(pool_size=2)(x) # Ajustar el tamaño y los strides\n",
        "\n",
        "    x = layers.Conv3D(filters=64, kernel_size=3, activation=\"relu\", padding=\"same\")(x)\n",
        "    #x = layers.Conv3D(filters=64, kernel_size=3, activation=\"relu\",padding=\"same\")(x)\n",
        "    #x = layers.Conv3D(filters=64, kernel_size=3, activation=\"relu\", padding=\"same\")(x)\n",
        "    #x = layers.Conv3D(filters=526, kernel_size=3, activation=\"relu\", padding=\"same\")(x)\n",
        "    x = layers.MaxPool3D(pool_size=2)(x)  # Ajustar el tamaño y los strides\n",
        "\n",
        "\n",
        "    x = layers.Conv3D(filters=128, kernel_size=3, activation=\"relu\",padding=\"same\")(x)\n",
        "    x = layers.MaxPool3D(pool_size=2)(x) # Ajustar el tamaño y los strides\n",
        "\n",
        "\n",
        "    x = layers.Conv3D(filters=256, kernel_size=3, activation=\"relu\",padding=\"same\")(x)\n",
        "    x = layers.MaxPool3D(pool_size=2)(x)  # Ajustar el tamaño y los strides\n",
        "\n",
        "    x = layers.Flatten()(x)\n",
        "\n",
        "    x = layers.Dense(units=512, activation=\"relu\")(x)\n",
        "\n",
        "\n",
        "    outputs = layers.Dense(units=num_classes, activation=\"softmax\")(x)\n",
        "\n",
        "    # Crear el modelo usando la API funcional de Keras\n",
        "    model = keras.Model(inputs, outputs, name=\"cnn_3d\")\n",
        "\n",
        "    return model\n",
        "\n"
      ],
      "metadata": {
        "id": "b5Ns9VZUjEOV"
      },
      "execution_count": null,
      "outputs": []
    },
    {
      "cell_type": "code",
      "execution_count": null,
      "metadata": {
        "id": "TQ8FxGBdxqZF"
      },
      "outputs": [],
      "source": [
        "# Crear el modelo\n",
        "model = build_model(input_shape, num_classes)\n",
        "\n",
        "# Compilar el modelo\n",
        "model.compile(\n",
        "    loss=\"sparse_categorical_crossentropy\",\n",
        "    optimizer=\"adam\",\n",
        "    metrics=[\"accuracy\"]\n",
        ")\n",
        "\n",
        "# Definir la ruta donde deseas guardar el modelo en tu Google Drive\n",
        "#model_save_path = \"/content/drive/My Drive/Colab Notebooks/VD/modelo_entrenado.h5\"\n",
        "\n"
      ]
    },
    {
      "cell_type": "code",
      "source": [
        "tf.keras.utils.plot_model(model)"
      ],
      "metadata": {
        "colab": {
          "base_uri": "https://localhost:8080/",
          "height": 1000
        },
        "id": "WKtPCWNlMejx",
        "outputId": "d802b28b-1b3d-4584-e88b-e77d5159d125"
      },
      "execution_count": null,
      "outputs": [
        {
          "output_type": "execute_result",
          "data": {
            "image/png": "[encoded data removed]",
            "text/plain": [
              "<IPython.core.display.Image object>"
            ]
          },
          "metadata": {},
          "execution_count": 26
        }
      ]
    },
    {
      "cell_type": "code",
      "execution_count": null,
      "metadata": {
        "colab": {
          "base_uri": "https://localhost:8080/"
        },
        "id": "nlBVZcin6pUD",
        "outputId": "89d94d68-4cb2-4f03-c439-d79481281c94"
      },
      "outputs": [
        {
          "output_type": "stream",
          "name": "stdout",
          "text": [
            "Epoch 1/10\n",
            "1/1 [==============================] - 282s 282s/step - loss: 0.6965 - accuracy: 0.4688 - val_loss: 0.8852 - val_accuracy: 0.5312\n",
            "Epoch 2/10\n",
            "1/1 [==============================] - 279s 279s/step - loss: 0.9377 - accuracy: 0.5078 - val_loss: 0.7498 - val_accuracy: 0.4688\n",
            "Epoch 3/10\n",
            "1/1 [==============================] - 277s 277s/step - loss: 0.7392 - accuracy: 0.4922 - val_loss: 0.6970 - val_accuracy: 0.4688\n",
            "Epoch 4/10\n",
            "1/1 [==============================] - 276s 276s/step - loss: 0.6951 - accuracy: 0.4922 - val_loss: 0.6936 - val_accuracy: 0.4688\n",
            "Epoch 5/10\n",
            "1/1 [==============================] - 278s 278s/step - loss: 0.6931 - accuracy: 0.4922 - val_loss: 0.6927 - val_accuracy: 0.4688\n",
            "Epoch 6/10\n",
            "1/1 [==============================] - 276s 276s/step - loss: 0.6926 - accuracy: 0.4922 - val_loss: 0.6913 - val_accuracy: 0.5938\n",
            "Epoch 7/10\n",
            "1/1 [==============================] - 285s 285s/step - loss: 0.6919 - accuracy: 0.5000 - val_loss: 0.6890 - val_accuracy: 0.5312\n",
            "Epoch 8/10\n",
            "1/1 [==============================] - 281s 281s/step - loss: 0.6903 - accuracy: 0.5078 - val_loss: 0.6844 - val_accuracy: 0.5312\n",
            "Epoch 9/10\n"
          ]
        }
      ],
      "source": [
        "# Entrenar el modelo\n",
        "model.fit(\n",
        "    videos_train,\n",
        "    labels_train,\n",
        "    batch_size=batch_size,\n",
        "    epochs=epochs,\n",
        "    validation_data=(videos_val, labels_val),\n",
        ")\n",
        "\n"
      ]
    },
    {
      "cell_type": "code",
      "execution_count": null,
      "metadata": {
        "colab": {
          "base_uri": "https://localhost:8080/"
        },
        "id": "LVZ5Prx20f4C",
        "outputId": "9fdc4738-2566-4122-8547-377ab1d48fd8"
      },
      "outputs": [
        {
          "output_type": "stream",
          "name": "stdout",
          "text": [
            "2/2 [==============================] - 3s 1s/step - loss: 0.6436 - accuracy: 0.6667\n"
          ]
        },
        {
          "output_type": "execute_result",
          "data": {
            "text/plain": [
              "[0.6435760259628296, 0.6666666865348816]"
            ]
          },
          "metadata": {},
          "execution_count": 13
        }
      ],
      "source": [
        "\n",
        "# Evaluar el modelo\n",
        "model.evaluate(videos_test, labels_test)\n",
        "#```"
      ]
    },
    {
      "cell_type": "code",
      "source": [
        "model.save(\"/content/drive/My Drive/Colab Notebooks/VD/modelo_entrenado3.h5\")\n",
        "#guarda los pesos\n",
        "model.save_weights(\"/content/drive/My Drive/Colab Notebooks/VD/pesos_modelo3.h5\")\n"
      ],
      "metadata": {
        "id": "gEnMkc2CM3MQ"
      },
      "execution_count": null,
      "outputs": []
    },
    {
      "cell_type": "markdown",
      "source": [
        "ENTRENAMIENTO DEL MODELO OPTENIDO CON NUEVOS DATOS"
      ],
      "metadata": {
        "id": "UC5dB8KZ5aZI"
      }
    },
    {
      "cell_type": "code",
      "source": [
        "from tensorflow.keras.models import load_model\n",
        "\n",
        "# Carga el modelo previamente entrenado\n",
        "#modelo_previo = model\n",
        "modelo_previo = load_model('/content/drive/My Drive/Colab Notebooks/VD/modelo_actualizado2.h5')\n"
      ],
      "metadata": {
        "id": "sxY0guzg4cHc"
      },
      "execution_count": null,
      "outputs": []
    },
    {
      "cell_type": "code",
      "source": [
        "from tensorflow.keras.utils import to_categorical\n",
        "\n",
        "labels_train2 = to_categorical(labels_train, num_classes=2)\n",
        "labels_val2 = to_categorical(labels_val, num_classes=2)\n",
        "labels_test2 = to_categorical(labels_test, num_classes=2)"
      ],
      "metadata": {
        "id": "6v8CCinn8Hva"
      },
      "execution_count": null,
      "outputs": []
    },
    {
      "cell_type": "code",
      "source": [
        "from tensorflow.keras.optimizers import Adam\n",
        "\n",
        "# Congela todas las capas excepto las últimas\n",
        "#for capa in modelo_previo.layers[:-1]:\n",
        "#    capa.trainable = False\n",
        "\n",
        "# Compila el modelo para el ajuste fino\n",
        "modelo_previo.compile(optimizer=Adam(lr=0.0001), loss='categorical_crossentropy', metrics=['accuracy'])\n",
        "\n",
        "# Ajuste fino del modelo con los nuevos datos\n",
        "modelo_previo.fit(videos_train, labels_train2, epochs=30, batch_size=32, validation_split=0.2)\n"
      ],
      "metadata": {
        "colab": {
          "base_uri": "https://localhost:8080/"
        },
        "id": "d9MdUeag5UXb",
        "outputId": "e1e5c9d4-35aa-4b2f-cdba-e358b3e58272"
      },
      "execution_count": null,
      "outputs": [
        {
          "output_type": "stream",
          "name": "stderr",
          "text": [
            "WARNING:absl:`lr` is deprecated in Keras optimizer, please use `learning_rate` or use the legacy optimizer, e.g.,tf.keras.optimizers.legacy.Adam.\n"
          ]
        },
        {
          "output_type": "stream",
          "name": "stdout",
          "text": [
            "Epoch 1/30\n",
            "4/4 [==============================] - 15s 4s/step - loss: 0.6883 - accuracy: 0.5588 - val_loss: 0.6855 - val_accuracy: 0.5000\n",
            "Epoch 2/30\n",
            "4/4 [==============================] - 14s 3s/step - loss: 0.6791 - accuracy: 0.5490 - val_loss: 0.6791 - val_accuracy: 0.7308\n",
            "Epoch 3/30\n",
            "4/4 [==============================] - 14s 3s/step - loss: 0.6803 - accuracy: 0.5392 - val_loss: 0.6891 - val_accuracy: 0.6538\n",
            "Epoch 4/30\n",
            "4/4 [==============================] - 14s 3s/step - loss: 0.6781 - accuracy: 0.5000 - val_loss: 0.6754 - val_accuracy: 0.6538\n",
            "Epoch 5/30\n",
            "4/4 [==============================] - 14s 3s/step - loss: 0.6808 - accuracy: 0.5392 - val_loss: 0.6661 - val_accuracy: 0.6538\n",
            "Epoch 6/30\n",
            "4/4 [==============================] - 14s 3s/step - loss: 0.6814 - accuracy: 0.5098 - val_loss: 0.6665 - val_accuracy: 0.6538\n",
            "Epoch 7/30\n",
            "4/4 [==============================] - 14s 3s/step - loss: 0.6784 - accuracy: 0.5196 - val_loss: 0.6768 - val_accuracy: 0.6538\n",
            "Epoch 8/30\n",
            "4/4 [==============================] - 14s 3s/step - loss: 0.6775 - accuracy: 0.5686 - val_loss: 0.6908 - val_accuracy: 0.6538\n",
            "Epoch 9/30\n",
            "4/4 [==============================] - 14s 3s/step - loss: 0.6759 - accuracy: 0.4902 - val_loss: 0.6963 - val_accuracy: 0.3846\n",
            "Epoch 10/30\n",
            "4/4 [==============================] - 14s 3s/step - loss: 0.6784 - accuracy: 0.5588 - val_loss: 0.7035 - val_accuracy: 0.4231\n",
            "Epoch 11/30\n",
            "4/4 [==============================] - 14s 3s/step - loss: 0.6792 - accuracy: 0.5980 - val_loss: 0.7015 - val_accuracy: 0.3462\n",
            "Epoch 12/30\n",
            "4/4 [==============================] - 14s 3s/step - loss: 0.6780 - accuracy: 0.5882 - val_loss: 0.6975 - val_accuracy: 0.3846\n",
            "Epoch 13/30\n",
            "4/4 [==============================] - 14s 4s/step - loss: 0.6762 - accuracy: 0.5294 - val_loss: 0.6892 - val_accuracy: 0.6538\n",
            "Epoch 14/30\n",
            "4/4 [==============================] - 14s 4s/step - loss: 0.6771 - accuracy: 0.5392 - val_loss: 0.6785 - val_accuracy: 0.6538\n",
            "Epoch 15/30\n",
            "4/4 [==============================] - 14s 4s/step - loss: 0.6743 - accuracy: 0.5490 - val_loss: 0.6790 - val_accuracy: 0.6538\n",
            "Epoch 16/30\n",
            "4/4 [==============================] - 14s 4s/step - loss: 0.6735 - accuracy: 0.5588 - val_loss: 0.6835 - val_accuracy: 0.5000\n",
            "Epoch 17/30\n",
            "4/4 [==============================] - 14s 4s/step - loss: 0.6736 - accuracy: 0.5686 - val_loss: 0.6869 - val_accuracy: 0.5000\n",
            "Epoch 18/30\n",
            "4/4 [==============================] - 14s 4s/step - loss: 0.6741 - accuracy: 0.5098 - val_loss: 0.6952 - val_accuracy: 0.3846\n",
            "Epoch 19/30\n",
            "4/4 [==============================] - 14s 4s/step - loss: 0.6746 - accuracy: 0.5392 - val_loss: 0.6888 - val_accuracy: 0.6538\n",
            "Epoch 20/30\n",
            "4/4 [==============================] - 14s 4s/step - loss: 0.6736 - accuracy: 0.5098 - val_loss: 0.6837 - val_accuracy: 0.5000\n",
            "Epoch 21/30\n",
            "4/4 [==============================] - 14s 3s/step - loss: 0.6732 - accuracy: 0.4804 - val_loss: 0.6904 - val_accuracy: 0.6538\n",
            "Epoch 22/30\n",
            "4/4 [==============================] - 14s 3s/step - loss: 0.6745 - accuracy: 0.5686 - val_loss: 0.6935 - val_accuracy: 0.6538\n",
            "Epoch 23/30\n",
            "4/4 [==============================] - 14s 4s/step - loss: 0.6767 - accuracy: 0.5098 - val_loss: 0.6847 - val_accuracy: 0.5000\n",
            "Epoch 24/30\n",
            "4/4 [==============================] - 14s 4s/step - loss: 0.6723 - accuracy: 0.5686 - val_loss: 0.6855 - val_accuracy: 0.5000\n",
            "Epoch 25/30\n",
            "4/4 [==============================] - 14s 4s/step - loss: 0.6721 - accuracy: 0.5294 - val_loss: 0.6857 - val_accuracy: 0.5000\n",
            "Epoch 26/30\n",
            "4/4 [==============================] - 14s 4s/step - loss: 0.6712 - accuracy: 0.5294 - val_loss: 0.6783 - val_accuracy: 0.6538\n",
            "Epoch 27/30\n",
            "4/4 [==============================] - 14s 4s/step - loss: 0.6718 - accuracy: 0.5686 - val_loss: 0.6678 - val_accuracy: 0.6538\n",
            "Epoch 28/30\n",
            "4/4 [==============================] - 14s 4s/step - loss: 0.6728 - accuracy: 0.5392 - val_loss: 0.6655 - val_accuracy: 0.6538\n",
            "Epoch 29/30\n",
            "4/4 [==============================] - 14s 4s/step - loss: 0.6741 - accuracy: 0.5392 - val_loss: 0.6657 - val_accuracy: 0.6538\n",
            "Epoch 30/30\n",
            "4/4 [==============================] - 14s 4s/step - loss: 0.6729 - accuracy: 0.5392 - val_loss: 0.6686 - val_accuracy: 0.6538\n"
          ]
        },
        {
          "output_type": "execute_result",
          "data": {
            "text/plain": [
              "<keras.callbacks.History at 0x79d06c3cfeb0>"
            ]
          },
          "metadata": {},
          "execution_count": 17
        }
      ]
    },
    {
      "cell_type": "code",
      "source": [
        "# Importa las bibliotecas necesarias\n",
        "import numpy as np\n",
        "from sklearn.metrics import classification_report, confusion_matrix\n",
        "import seaborn as sns\n",
        "import matplotlib.pyplot as plt\n",
        "#from tensorflow.keras.models import load_model\n",
        "\n",
        "# Realiza predicciones con el modelo\n",
        "y_pred = modelo_previo.predict(videos_test)\n",
        "#y_pred = model.predict(videos_test2)\n",
        "\n",
        "# Convierte las predicciones en clases (por ejemplo, de probabilidades a clases 0 o 1)\n",
        "y_pred_classes = np.argmax(y_pred, axis=1)\n",
        "\n",
        "# Evaluación del modelo\n",
        "print(\"Matriz de Confusión:\")\n",
        "cm = confusion_matrix(labels_test, y_pred_classes)\n",
        "print(cm)\n",
        "\n",
        "print(\"\\nReporte de Clasificación:\")\n",
        "print(classification_report(labels_test, y_pred_classes))\n",
        "\n",
        "# Visualiza la matriz de confusión\n",
        "plt.figure(figsize=(8, 6))\n",
        "sns.heatmap(cm, annot=True, fmt=\"d\", cmap=\"Blues\")\n",
        "plt.xlabel('Predicciones')\n",
        "plt.ylabel('Etiquetas Verdaderas')\n",
        "plt.show()\n"
      ],
      "metadata": {
        "colab": {
          "base_uri": "https://localhost:8080/",
          "height": 802
        },
        "id": "0tVjwP6W9rUV",
        "outputId": "2077db49-ccbb-4eb9-8c94-29153cb25561"
      },
      "execution_count": null,
      "outputs": [
        {
          "output_type": "stream",
          "name": "stdout",
          "text": [
            "2/2 [==============================] - 7s 3s/step\n",
            "Matriz de Confusión:\n",
            "[[10 18]\n",
            " [ 5 27]]\n",
            "\n",
            "Reporte de Clasificación:\n",
            "              precision    recall  f1-score   support\n",
            "\n",
            "           0       0.67      0.36      0.47        28\n",
            "           1       0.60      0.84      0.70        32\n",
            "\n",
            "    accuracy                           0.62        60\n",
            "   macro avg       0.63      0.60      0.58        60\n",
            "weighted avg       0.63      0.62      0.59        60\n",
            "\n"
          ]
        },
        {
          "output_type": "display_data",
          "data": {
            "text/plain": [
              "<Figure size 800x600 with 2 Axes>"
            ],
            "image/png": "[encoded data removed]"
          },
          "metadata": {}
        }
      ]
    },
    {
      "cell_type": "code",
      "source": [
        "import matplotlib.pyplot as plt\n",
        "\n",
        "# Realiza la evaluación en el conjunto de prueba\n",
        "loss_test, accuracy_test = modelo_previo.evaluate(videos_test, labels_test2)\n",
        "\n",
        "# Crea una gráfica de barras para mostrar la pérdida y la precisión en el conjunto de prueba\n",
        "plt.figure(figsize=(8, 6))\n",
        "\n",
        "# Etiquetas para las barras\n",
        "labels = ['Loss', 'Accuracy']\n",
        "values = [loss_test, accuracy_test]\n",
        "\n",
        "# Colores para las barras\n",
        "colors = ['red', 'blue']\n",
        "\n",
        "# Genera las barras\n",
        "plt.bar(labels, values, color=colors)\n",
        "\n",
        "# Muestra los valores en las barras\n",
        "for i, v in enumerate(values):\n",
        "    plt.text(i, v, str(round(v, 2)), ha='center', va='bottom', fontsize=12, fontweight='bold', color='black')\n",
        "\n",
        "plt.ylabel('Valor')\n",
        "plt.title('Pérdida y Precisión en el Conjunto de Prueba')\n",
        "\n",
        "plt.show()\n"
      ],
      "metadata": {
        "colab": {
          "base_uri": "https://localhost:8080/",
          "height": 562
        },
        "id": "SF8vB9UU9HJC",
        "outputId": "3805a965-57b6-4de0-c836-1e844139d45a"
      },
      "execution_count": null,
      "outputs": [
        {
          "output_type": "stream",
          "name": "stdout",
          "text": [
            "2/2 [==============================] - 3s 1s/step - loss: 0.6023 - accuracy: 0.6833\n"
          ]
        },
        {
          "output_type": "display_data",
          "data": {
            "text/plain": [
              "<Figure size 800x600 with 1 Axes>"
            ],
            "image/png": "[encoded data removed]"
          },
          "metadata": {}
        }
      ]
    },
    {
      "cell_type": "code",
      "source": [
        "# Guardar el modelo nuevamente entrenado\n",
        "modelo_previo.save('/content/drive/My Drive/Colab Notebooks/VD/modelo_actualizado9.h5')\n",
        "modelo_previo.save_weights(\"/content/drive/My Drive/Colab Notebooks/VD/pesos_modelo9.h5\")"
      ],
      "metadata": {
        "id": "xiE3rDU_Dr7Q"
      },
      "execution_count": null,
      "outputs": []
    }
  ],
  "metadata": {
    "colab": {
      "provenance": [],
      "machine_shape": "hm",
      "mount_file_id": "1LrWWyGXGHjHWQikRKSDSKM0KxFbKYKGE",
      "authorship_tag": "ABX9TyNXvyJtWNqCNlLE97UUeCBU",
      "include_colab_link": true
    },
    "kernelspec": {
      "display_name": "Python 3",
      "name": "python3"
    },
    "language_info": {
      "name": "python"
    },
    "accelerator": "TPU"
  },
  "nbformat": 4,
  "nbformat_minor": 0
}